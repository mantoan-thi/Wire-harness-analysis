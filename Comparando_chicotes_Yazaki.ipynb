{
  "nbformat": 4,
  "nbformat_minor": 0,
  "metadata": {
    "colab": {
      "name": "Comparando_chicotes_Yazaki.ipynb",
      "provenance": [],
      "authorship_tag": "ABX9TyOe2TbtFULDeTqHSXfsWBeY",
      "include_colab_link": true
    },
    "kernelspec": {
      "name": "python3",
      "display_name": "Python 3"
    },
    "language_info": {
      "name": "python"
    }
  },
  "cells": [
    {
      "cell_type": "markdown",
      "metadata": {
        "id": "view-in-github",
        "colab_type": "text"
      },
      "source": [
        "<a href=\"https://colab.research.google.com/github/mantoan-thi/Wire-harness-analysis/blob/main/Comparando_chicotes_Yazaki.ipynb\" target=\"_parent\"><img src=\"https://colab.research.google.com/assets/colab-badge.svg\" alt=\"Open In Colab\"/></a>"
      ]
    },
    {
      "cell_type": "code",
      "metadata": {
        "id": "SxQnt_dMnWzO"
      },
      "source": [
        "import pandas as pd"
      ],
      "execution_count": 1,
      "outputs": []
    },
    {
      "cell_type": "code",
      "metadata": {
        "id": "xhfu49H1n7ck"
      },
      "source": [
        "dataset = pd.read_excel('/content/Consulta BOM v14.xlsm',sheet_name='CIRCUITO')"
      ],
      "execution_count": 58,
      "outputs": []
    },
    {
      "cell_type": "code",
      "metadata": {
        "colab": {
          "base_uri": "https://localhost:8080/"
        },
        "id": "03MJsJxvoD4T",
        "outputId": "d250791f-3f8c-4d70-8709-f36bae01a117"
      },
      "source": [
        "# Colunas\n",
        "dataset.columns"
      ],
      "execution_count": 59,
      "outputs": [
        {
          "output_type": "execute_result",
          "data": {
            "text/plain": [
              "Index(['PROD_TERM', 'OT', 'OT_DISCRIMINADA', 'NUMERO_EMS', 'CIRC_ESQ',\n",
              "       'CIR_DIR', 'TIPO', 'BITOLA', 'COR', 'COMP', 'COD_OP_01_ESQ',\n",
              "       'COD_OP_02_ESQ', 'COD_OP_03_ESQ', 'CIR_01_EMP_ESQ', 'CIR_02_EMP_ESQ',\n",
              "       'CIR_03_EMP_ESQ', 'CIR_04_EMP_ESQ', 'CIR_05_EMP_ESQ', 'TERMINAL_ESQ',\n",
              "       'DESFORRE_ESQ', 'ACC_ESQ_1', 'ACC_ESQ_2', 'ACC_ESQ_3', 'ACC_ESQ_4',\n",
              "       'TIPO_TUB_ESQ', 'DIAM_TUB_ESQ', 'DIAM_TUB_ESQ_NOVO', 'COR_TUB_ESQ',\n",
              "       'COMP_TUBO_ESQ', 'COD_OP_01_DIR', 'COD_OP_02_DIR', 'COD_OP_03_DIR',\n",
              "       'CIR_01_EMP_DIR', 'CIR_02_EMP_DIR', 'CIR_03_EMP_DIR', 'CIR_04_EMP_DIR',\n",
              "       'CIR_05_EMP_DIR', 'TERMINAL_DIR', 'DESFORRE_DIR', 'ACC_DIR_1',\n",
              "       'ACC_DIR_2', 'ACC_DIR_3', 'ACC_DIR_4', 'TIPO_TUB_DIR', 'DIAM_TUB_DIR',\n",
              "       'COR_TUB_DIR', 'COMP_TUB_DIR', 'CIR_06_TUB_ESQ', 'CIR_05_TUB_ESQ',\n",
              "       'CIR_04_TUB_ESQ', 'CIR_03_TUB_ESQ', 'CIR_02_TUB_ESQ', 'CIR_01_TUB_ESQ',\n",
              "       'CIR_06_TUB_DIR', 'CIR_05_TUB_DIR', 'CIR_04_TUB_DIR', 'CIR_03_TUB_DIR',\n",
              "       'CIR_02_TUB_DIR', 'CIR_01_TUB_DIR', 'SOLDA', 'GP_BLIND', 'TIPO_BLIND',\n",
              "       'BITOLA_BLIND', 'COR_BLIND', 'COMP_BLIND', 'KSK_MODULO', 'KSK_DESC_ENG',\n",
              "       'KSK_DESC_SCH', 'KSK_LADO_CIR', 'KSK_LADO_SOL', 'KSK_DESC_EMDEP'],\n",
              "      dtype='object')"
            ]
          },
          "metadata": {},
          "execution_count": 59
        }
      ]
    },
    {
      "cell_type": "code",
      "metadata": {
        "id": "ve0_o0_Dot76"
      },
      "source": [
        "# selecionando as colunas\n",
        "dataset = dataset[['PROD_TERM', 'OT', 'OT_DISCRIMINADA', 'CIRC_ESQ',\n",
        "       'CIR_DIR', 'TIPO', 'BITOLA', 'COR', 'COMP', 'COD_OP_01_ESQ', 'TERMINAL_ESQ',\n",
        "       'ACC_ESQ_1','COD_OP_01_DIR','TERMINAL_DIR', 'ACC_DIR_1', 'SOLDA']]"
      ],
      "execution_count": 60,
      "outputs": []
    },
    {
      "cell_type": "code",
      "metadata": {
        "colab": {
          "base_uri": "https://localhost:8080/"
        },
        "id": "mj6n_MbNpYlv",
        "outputId": "51bed43f-3113-4826-9da6-7ed9f844648d"
      },
      "source": [
        "# Obtenha os nomes dos índices para os quais a coluna 'OT_DISCRIMINADA' tem o valor SIM\n",
        "index_ot_discriminada = dataset[dataset['OT_DISCRIMINADA']=='SIM'].index\n",
        "\n",
        "if index_ot_discriminada.shape[0] > 0:\n",
        "  # Excluindo esses índices de linha de dataFrame\n",
        "  dataset.drop(index_ot_discriminada, inplace=True)\n",
        "else:\n",
        "  print('Sem ots dicriminadas!!')"
      ],
      "execution_count": 62,
      "outputs": [
        {
          "output_type": "stream",
          "name": "stdout",
          "text": [
            "Sem ots dicriminadas!!\n"
          ]
        }
      ]
    },
    {
      "cell_type": "code",
      "metadata": {
        "colab": {
          "base_uri": "https://localhost:8080/"
        },
        "id": "TUz0LvwwrrJR",
        "outputId": "f0ea549c-fbd0-4b1d-91a3-8a73444b1aa8"
      },
      "source": [
        "# Quantidade de linha na planilha\n",
        "dataset.shape[0]"
      ],
      "execution_count": 69,
      "outputs": [
        {
          "output_type": "execute_result",
          "data": {
            "text/plain": [
              "7522"
            ]
          },
          "metadata": {},
          "execution_count": 69
        }
      ]
    },
    {
      "cell_type": "code",
      "metadata": {
        "id": "YeNWV04gu4vt"
      },
      "source": [
        "# Quantidade de circuitos por part number\n",
        "lista_pn = []\n",
        "pn_anterior = 0\n",
        "for pn in dataset['PROD_TERM']:\n",
        "  if pn_anterior != pn:\n",
        "    pn_anterior = pn\n",
        "    qtde = dataset[dataset['PROD_TERM']==pn].shape[0]\n",
        "    lista_pn.append([pn,qtde])\n",
        "lista_pn =pd.DataFrame(lista_pn,columns=['Part_number','Qtde'])\n",
        "lista_pn.sort_values(by=['Qtde'],ascending=False,inplace=True)\n",
        "lista_pn.reset_index(inplace=True,drop=True)\n",
        "\n",
        "print('Quantidade de Part Number:',lista_pn.shape[0])\n",
        "print('Menor Part number:',lista_pn['Part_number'][-1:].values[0],'// Qtde ckt:', lista_pn['Qtde'][-1:].values[0])\n",
        "print('Maior Part number:',lista_pn['Part_number'][0],'// Qtde ckt:', lista_pn['Qtde'][0])\n",
        "print('\\n\\nDescribe\\n',lista_pn.describe())\n",
        "print('\\n\\nLista de Part Number com Quantidades:\\n\\n',lista_pn)"
      ],
      "execution_count": null,
      "outputs": []
    },
    {
      "cell_type": "code",
      "metadata": {
        "id": "haf4efHO1dAi"
      },
      "source": [
        ""
      ],
      "execution_count": null,
      "outputs": []
    }
  ]
}