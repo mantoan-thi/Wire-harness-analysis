{
  "nbformat": 4,
  "nbformat_minor": 0,
  "metadata": {
    "colab": {
      "name": "Comparando_chicotes_Yazaki.ipynb",
      "provenance": [],
      "collapsed_sections": [],
      "authorship_tag": "ABX9TyMYKhxSKRVhVprfQu35Cdnb",
      "include_colab_link": true
    },
    "kernelspec": {
      "name": "python3",
      "display_name": "Python 3"
    },
    "language_info": {
      "name": "python"
    }
  },
  "cells": [
    {
      "cell_type": "markdown",
      "metadata": {
        "id": "view-in-github",
        "colab_type": "text"
      },
      "source": [
        "<a href=\"https://colab.research.google.com/github/mantoan-thi/Wire-harness-analysis/blob/main/Comparando_chicotes_Yazaki.ipynb\" target=\"_parent\"><img src=\"https://colab.research.google.com/assets/colab-badge.svg\" alt=\"Open In Colab\"/></a>"
      ]
    },
    {
      "cell_type": "code",
      "metadata": {
        "id": "SxQnt_dMnWzO"
      },
      "source": [
        "import pandas as pd"
      ],
      "execution_count": 309,
      "outputs": []
    },
    {
      "cell_type": "code",
      "metadata": {
        "id": "SbsRhttcGOWo"
      },
      "source": [
        "class comparative_analysis():\n",
        "  def __init__(self,dataset):\n",
        "    self.dataset = dataset[['PROD_TERM', 'OT', 'OT_DISCRIMINADA', 'CIRC_ESQ','CIR_DIR', 'TIPO', \n",
        "                            'BITOLA', 'COR', 'COMP', 'COD_OP_01_ESQ', 'TERMINAL_ESQ','ACC_ESQ_1',\n",
        "                            'COD_OP_01_DIR','TERMINAL_DIR', 'ACC_DIR_1', 'SOLDA']]\n",
        "\n",
        "  # Função retir as ot discriminadas\n",
        "  def ot_disc(self):\n",
        "    # Obtenha os nomes dos índices para os quais a coluna 'OT_DISCRIMINADA' tem o valor SIM\n",
        "    index_ot_discriminada = self.dataset[self.dataset['OT_DISCRIMINADA']=='SIM'].index\n",
        "    if index_ot_discriminada.shape[0] > 0:\n",
        "      # Excluindo esses índices de linha de dataFrame\n",
        "      self.dataset.drop(index_ot_discriminada, inplace=True)\n",
        "    self.dataset.drop(columns=['OT_DISCRIMINADA'],axis=1, inplace=True)\n",
        "    self.dataset.fillna(0,inplace=True)\n",
        "    return self.dataset\n",
        "\n",
        "  # Quantidade de circuitos por part number\n",
        "  def wire_stat(self): \n",
        "    self.lista_pn = []\n",
        "    pn_anterior = 0\n",
        "    for pn in self.dataset['PROD_TERM']:\n",
        "      if pn_anterior != pn:\n",
        "        pn_anterior = pn\n",
        "        qtde = self.dataset[self.dataset['PROD_TERM']==pn].shape[0]\n",
        "        self.lista_pn.append([pn,qtde])\n",
        "    self.lista_pn =pd.DataFrame(self.lista_pn,columns=['Part_number','Qtde'])\n",
        "    self.lista_pn.sort_values(by=['Qtde'],ascending=False,inplace=True)\n",
        "    self.lista_pn.reset_index(inplace=True,drop=True)\n",
        "\n",
        "\n",
        "    self.qtde_pn = self.lista_pn.shape[0]\n",
        "    self.menor_pn = self.lista_pn['Part_number'][-1:].values[0]\n",
        "    self.maior_pn = self.lista_pn['Part_number'][0]\n",
        "    self.Describ = self.lista_pn.describe()\n",
        "    return self.lista_pn,self.qtde_pn,self.menor_pn,self.maior_pn,self.Describ\n",
        "\n",
        "  def Num_compar(self):\n",
        "    # Calcular a quantidade de comparações\n",
        "    self.lista_pn,_,_ ,_,_= self.wire_stat()\n",
        "    contador1 =0\n",
        "    contador2 = 0\n",
        "    Total = 0\n",
        "    while contador1 < self.lista_pn['Part_number'].shape[0]:\n",
        "      contador2=contador1+1\n",
        "      while contador2 < self.lista_pn['Part_number'].shape[0]:\n",
        "        #print('Nr:'+str(Total)+' - '+self.lista_pn['Part_number'][contador1]+' vs '+self.lista_pn['Part_number'][contador2])\n",
        "        contador2+=1\n",
        "        Total+=1\n",
        "      contador1+=1\n",
        "      contador2 = 0\n",
        "    return Total\n",
        "\n"
      ],
      "execution_count": 444,
      "outputs": []
    },
    {
      "cell_type": "code",
      "metadata": {
        "id": "xhfu49H1n7ck"
      },
      "source": [
        "dataset = pd.read_excel('/content/Consulta BOM v14.xlsm',sheet_name='CIRCUITO')"
      ],
      "execution_count": 516,
      "outputs": []
    },
    {
      "cell_type": "code",
      "metadata": {
        "id": "wPgZdgHbJH7j"
      },
      "source": [
        "analise = comparative_analysis(dataset)"
      ],
      "execution_count": 517,
      "outputs": []
    },
    {
      "cell_type": "code",
      "metadata": {
        "colab": {
          "base_uri": "https://localhost:8080/"
        },
        "id": "K9jV31fl3Qdl",
        "outputId": "76c00089-b4a0-45ed-8b27-020696b626a4"
      },
      "source": [
        "analise.Num_compar()\n",
        "dataset = analise.ot_disc()\n",
        "lista_pn,_,_,_,_ = analise.wire_stat()"
      ],
      "execution_count": 518,
      "outputs": [
        {
          "output_type": "stream",
          "name": "stderr",
          "text": [
            "/usr/local/lib/python3.7/dist-packages/pandas/core/frame.py:4174: SettingWithCopyWarning: \n",
            "A value is trying to be set on a copy of a slice from a DataFrame\n",
            "\n",
            "See the caveats in the documentation: https://pandas.pydata.org/pandas-docs/stable/user_guide/indexing.html#returning-a-view-versus-a-copy\n",
            "  errors=errors,\n",
            "/usr/local/lib/python3.7/dist-packages/pandas/core/frame.py:4327: SettingWithCopyWarning: \n",
            "A value is trying to be set on a copy of a slice from a DataFrame\n",
            "\n",
            "See the caveats in the documentation: https://pandas.pydata.org/pandas-docs/stable/user_guide/indexing.html#returning-a-view-versus-a-copy\n",
            "  downcast=downcast,\n"
          ]
        }
      ]
    },
    {
      "cell_type": "code",
      "metadata": {
        "colab": {
          "base_uri": "https://localhost:8080/"
        },
        "id": "FDQsrYuLSOfk",
        "outputId": "0a88d90f-3283-4038-b75f-56d9297c7e7e"
      },
      "source": [
        "list_comp.columns"
      ],
      "execution_count": 521,
      "outputs": [
        {
          "output_type": "execute_result",
          "data": {
            "text/plain": [
              "Index(['PROD_TERM', 'OT', 'CIRC_ESQ', 'CIR_DIR', 'TIPO', 'BITOLA', 'COR',\n",
              "       'COMP', 'COD_OP_01_ESQ', 'TERMINAL_ESQ', 'ACC_ESQ_1', 'COD_OP_01_DIR',\n",
              "       'TERMINAL_DIR', 'ACC_DIR_1', 'SOLDA'],\n",
              "      dtype='object')"
            ]
          },
          "metadata": {},
          "execution_count": 521
        }
      ]
    },
    {
      "cell_type": "code",
      "metadata": {
        "id": "jFITtcieEaim"
      },
      "source": [
        "def analisar(list_comp):\n",
        "  contar1 = 0\n",
        "  contar2 = 0\n",
        "  list_comp['Delta'] = 0\n",
        "  while contar1 < list_comp.shape[0]:\n",
        "    contar2 = contar1+1\n",
        "    while contar2 < list_comp.shape[0]:\n",
        "      if list_comp['PROD_TERM'].iloc[contar1]!=list_comp['PROD_TERM'].iloc[contar2]:\n",
        "        # Tipo+bit+cor\n",
        "        tipoA = list_comp['TIPO'].iloc[contar1]+list_comp['BITOLA'].iloc[contar1]+list_comp['COR'].iloc[contar1]\n",
        "        tipoB = list_comp['TIPO'].iloc[contar2]+list_comp['BITOLA'].iloc[contar2]+list_comp['COR'].iloc[contar2]\n",
        "        TAE = str(list_comp['COD_OP_01_ESQ'].iloc[contar1])+str(list_comp['TERMINAL_ESQ'].iloc[contar1])+str(list_comp['ACC_ESQ_1'].iloc[contar1])\n",
        "        TAD = str(list_comp['COD_OP_01_DIR'].iloc[contar1])+str(list_comp['TERMINAL_DIR'].iloc[contar1])+str(list_comp['ACC_DIR_1'].iloc[contar1])\n",
        "        TBE = str(list_comp['COD_OP_01_ESQ'].iloc[contar2])+str(list_comp['TERMINAL_ESQ'].iloc[contar2])+str(list_comp['ACC_ESQ_1'].iloc[contar2])\n",
        "        TBD = str(list_comp['COD_OP_01_DIR'].iloc[contar2])+str(list_comp['TERMINAL_DIR'].iloc[contar2])+str(list_comp['ACC_DIR_1'].iloc[contar2])\n",
        "        COMPA = int(list_comp['COMP'].iloc[contar1])\n",
        "        COMPB = int(list_comp['COMP'].iloc[contar2])\n",
        "        dif = abs(COMPA-COMPB)\n",
        "        JTA = str(list_comp['SOLDA'].iloc[contar1])[0]\n",
        "        JTB = str(list_comp['SOLDA'].iloc[contar2])[0]\n",
        "        if tipoA == tipoB:                            # Comparando Tipo,Bit e cor\n",
        "          if COMPA == COMPB or dif < 50:              # Checando dimensional\n",
        "            if TAE==TBE or TAD==TBD:                  # Terminais\n",
        "              list_comp['Delta'].iloc[contar1] ='COMUM' \n",
        "              list_comp['Delta'].iloc[contar2] ='COMUM'\n",
        "            if TAE==TBD or TAD==TBE:                  # Terminais\n",
        "              list_comp['Delta'].iloc[contar1] ='COMUM' \n",
        "              list_comp['Delta'].iloc[contar2] ='COMUM'\n",
        "\n",
        "      contar2 +=1\n",
        "    contar1+=1\n",
        "    contar2 = 0\n",
        "    list_comp['Delta'].loc[list_comp['Delta']==0]='DIF'\n",
        "    lista_analisada = list_comp.sort_values(by=['OT'],ascending=True,inplace=True)\n",
        "  return list_comp"
      ],
      "execution_count": 564,
      "outputs": []
    },
    {
      "cell_type": "code",
      "metadata": {
        "colab": {
          "base_uri": "https://localhost:8080/",
          "height": 35
        },
        "id": "V_HeELT6946v",
        "outputId": "54ab8af6-1cf9-4166-ecf1-345d6571799c"
      },
      "source": [
        "# Part number que será o 'PARA'\n",
        "partA = lista_pn['Part_number'][7]\n",
        "partA[0:10]"
      ],
      "execution_count": 574,
      "outputs": [
        {
          "output_type": "execute_result",
          "data": {
            "application/vnd.google.colaboratory.intrinsic+json": {
              "type": "string"
            },
            "text/plain": [
              "'82115F570'"
            ]
          },
          "metadata": {},
          "execution_count": 574
        }
      ]
    },
    {
      "cell_type": "code",
      "metadata": {
        "id": "fIBlvmmX-J-0"
      },
      "source": [
        "contador = 0\n",
        "for pn in lista_pn['Part_number']:\n",
        "  if pn != partA:\n",
        "    list_comp = dataset[(dataset['PROD_TERM']==pn) | (dataset['PROD_TERM']==partA)]\n",
        "    nova_lista = analisar(list_comp)\n",
        "    nova_lista.to_csv(r'/content/Analise'+pn[0:10]+' vs '+partA[0:10]+'.csv',index=False, sep=',')"
      ],
      "execution_count": null,
      "outputs": []
    },
    {
      "cell_type": "code",
      "metadata": {
        "colab": {
          "base_uri": "https://localhost:8080/",
          "height": 143
        },
        "id": "BjSughRqpOf-",
        "outputId": "9b02ffdf-0111-482e-a468-d78f5c210ba8"
      },
      "source": [
        "nova_lista[nova_lista['Delta']!='COMUM']"
      ],
      "execution_count": 567,
      "outputs": [
        {
          "output_type": "execute_result",
          "data": {
            "text/html": [
              "<div>\n",
              "<style scoped>\n",
              "    .dataframe tbody tr th:only-of-type {\n",
              "        vertical-align: middle;\n",
              "    }\n",
              "\n",
              "    .dataframe tbody tr th {\n",
              "        vertical-align: top;\n",
              "    }\n",
              "\n",
              "    .dataframe thead th {\n",
              "        text-align: right;\n",
              "    }\n",
              "</style>\n",
              "<table border=\"1\" class=\"dataframe\">\n",
              "  <thead>\n",
              "    <tr style=\"text-align: right;\">\n",
              "      <th></th>\n",
              "      <th>PROD_TERM</th>\n",
              "      <th>OT</th>\n",
              "      <th>CIRC_ESQ</th>\n",
              "      <th>CIR_DIR</th>\n",
              "      <th>TIPO</th>\n",
              "      <th>BITOLA</th>\n",
              "      <th>COR</th>\n",
              "      <th>COMP</th>\n",
              "      <th>COD_OP_01_ESQ</th>\n",
              "      <th>TERMINAL_ESQ</th>\n",
              "      <th>ACC_ESQ_1</th>\n",
              "      <th>COD_OP_01_DIR</th>\n",
              "      <th>TERMINAL_DIR</th>\n",
              "      <th>ACC_DIR_1</th>\n",
              "      <th>SOLDA</th>\n",
              "      <th>Delta</th>\n",
              "    </tr>\n",
              "  </thead>\n",
              "  <tbody>\n",
              "    <tr>\n",
              "      <th>7092</th>\n",
              "      <td>82115F5750                A20</td>\n",
              "      <td>33</td>\n",
              "      <td>#67   203</td>\n",
              "      <td>C27    079</td>\n",
              "      <td>CIVUS</td>\n",
              "      <td>0.35</td>\n",
              "      <td>B</td>\n",
              "      <td>2495</td>\n",
              "      <td>0</td>\n",
              "      <td>7116-3153-02</td>\n",
              "      <td>0</td>\n",
              "      <td>D</td>\n",
              "      <td>7114-4025</td>\n",
              "      <td>7158-3009-60</td>\n",
              "      <td>0</td>\n",
              "      <td>DIF</td>\n",
              "    </tr>\n",
              "    <tr>\n",
              "      <th>7095</th>\n",
              "      <td>82115F5750                A20</td>\n",
              "      <td>37</td>\n",
              "      <td>%A4   453</td>\n",
              "      <td>Z8E    079</td>\n",
              "      <td>CIVUS</td>\n",
              "      <td>0.35</td>\n",
              "      <td>BR</td>\n",
              "      <td>925</td>\n",
              "      <td>BU</td>\n",
              "      <td>7409-9915</td>\n",
              "      <td>0</td>\n",
              "      <td>D</td>\n",
              "      <td>7114-4025</td>\n",
              "      <td>7158-3009-60</td>\n",
              "      <td>0</td>\n",
              "      <td>DIF</td>\n",
              "    </tr>\n",
              "    <tr>\n",
              "      <th>7096</th>\n",
              "      <td>82115F5750                A20</td>\n",
              "      <td>38</td>\n",
              "      <td>E0B   098</td>\n",
              "      <td>SRD    310</td>\n",
              "      <td>CIVUS</td>\n",
              "      <td>0.35</td>\n",
              "      <td>BR</td>\n",
              "      <td>2235</td>\n",
              "      <td>D</td>\n",
              "      <td>7116-5044-02</td>\n",
              "      <td>7158-3009-60</td>\n",
              "      <td>0</td>\n",
              "      <td>7116-3153-02</td>\n",
              "      <td>0</td>\n",
              "      <td>0</td>\n",
              "      <td>DIF</td>\n",
              "    </tr>\n",
              "  </tbody>\n",
              "</table>\n",
              "</div>"
            ],
            "text/plain": [
              "                          PROD_TERM  OT   CIRC_ESQ  ...     ACC_DIR_1 SOLDA Delta\n",
              "7092  82115F5750                A20  33  #67   203  ...  7158-3009-60     0   DIF\n",
              "7095  82115F5750                A20  37  %A4   453  ...  7158-3009-60     0   DIF\n",
              "7096  82115F5750                A20  38  E0B   098  ...             0     0   DIF\n",
              "\n",
              "[3 rows x 16 columns]"
            ]
          },
          "metadata": {},
          "execution_count": 567
        }
      ]
    }
  ]
}