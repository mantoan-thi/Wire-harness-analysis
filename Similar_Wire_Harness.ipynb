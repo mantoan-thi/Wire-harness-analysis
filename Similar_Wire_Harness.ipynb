{
  "nbformat": 4,
  "nbformat_minor": 0,
  "metadata": {
    "accelerator": "GPU",
    "colab": {
      "name": "Similar Wire Harness.ipynb",
      "provenance": [],
      "collapsed_sections": [
        "3p231RB6wtVH",
        "5NLQ-zU8w4El"
      ],
      "authorship_tag": "ABX9TyOotO7zrHmYSWc5NzBLwpg8",
      "include_colab_link": true
    },
    "kernelspec": {
      "display_name": "Python 3",
      "name": "python3"
    },
    "language_info": {
      "name": "python"
    }
  },
  "cells": [
    {
      "cell_type": "markdown",
      "metadata": {
        "id": "view-in-github",
        "colab_type": "text"
      },
      "source": [
        "<a href=\"https://colab.research.google.com/github/mantoan-thi/Wire-harness-analysis/blob/main/Similar_Wire_Harness.ipynb\" target=\"_parent\"><img src=\"https://colab.research.google.com/assets/colab-badge.svg\" alt=\"Open In Colab\"/></a>"
      ]
    },
    {
      "cell_type": "markdown",
      "metadata": {
        "id": "cTGAO3P1z9Vl"
      },
      "source": [
        "# Contextualizando o problema"
      ]
    },
    {
      "cell_type": "markdown",
      "metadata": {
        "id": "gJf2hB1u0Fd0"
      },
      "source": [
        "As 'Chicoteiras' são empresas que tem como objetivo principal desenvolver partes automotivas (chicotes eletricos) para as montadoras de veículos.\n",
        "\n",
        "Para nosso estudo, nosso foco séra os problemas de qualidade relacionados aos chicotes elétricos.\n",
        "\n",
        "O que são os chicotes elétricos?\n",
        "\n",
        "O Chicote Elétrico é um conjunto de cabos condutores e conectores para gerenciar o suprimento de energia elétrica e também a transferência de informações dos dispositivos periféricos ao produto final e integrar os sistema de veículos automotores, máquinas e equipamentos.Podemos assim dizer, que eles são complexos e demandam uma grande experiência na mão de obra manual e equipamentos específicos para montagem e atendimento as normas técnicas. Qualidade e funcionalidade são fatores importantes na produção de chicotes elétricos.\n",
        "\n",
        "Uns dos problemas de qualidade que gerar altos custos e demerito para as chicoteiras é o carro não funcionar durante o processo de teste devido o part number do chicote estar trocado, causando assim parada de linha e desmonte de parte do carro. Esse problema ocorre na chicoteira, que durante o processo de teste elétrico, part number similares ou com apenas um ramal de diferença são identificador de forma errada - Kanban trocado, assim um part number passa como outro part number. O teste elétrico que é onde o chicote é testado também não são preparado para detectar esse tipo de falha.\n",
        "\n",
        "Nosso objeto aqui é indicar qual são os part number similares que tem potencial para checarem trocados na montadora. Essa informação servirá para dois propositos: o primeiro é a area de engenharia pode planejar um teste elétrico com pino de checar presença e assim sanar o problema. E segundo ponto, o setor de Qualidade assegurada, com essas informações em mãos, pode fazer validar o teste elétrico simulando todas as posivéis trocas.\n"
      ]
    },
    {
      "cell_type": "code",
      "metadata": {
        "id": "ICWg8SYe3EhF"
      },
      "source": [
        "import pandas as pd\n",
        "from itertools import combinations\n",
        "from math import factorial\n",
        "import numpy as np\n",
        "import sys\n",
        "import warnings\n",
        "warnings.filterwarnings(\"ignore\")"
      ],
      "execution_count": 1,
      "outputs": []
    },
    {
      "cell_type": "markdown",
      "metadata": {
        "id": "NtITA3fiwkjL"
      },
      "source": [
        "Carregando os dados"
      ]
    },
    {
      "cell_type": "code",
      "metadata": {
        "id": "IYkERQhQ32oQ"
      },
      "source": [
        "df_ckt = pd.read_excel('/content/Consulta BOM v14 - FIACAO COMP MOTOR.xlsm',sheet_name='CIRCUITO')"
      ],
      "execution_count": 2,
      "outputs": []
    },
    {
      "cell_type": "markdown",
      "metadata": {
        "id": "3p231RB6wtVH"
      },
      "source": [
        "# Modelagem de dados"
      ]
    },
    {
      "cell_type": "code",
      "metadata": {
        "id": "FGj7FeOI55ai"
      },
      "source": [
        "# Selecionado as colunas\n",
        "df = df_ckt[['PROD_TERM', 'OT', 'OT_DISCRIMINADA', 'CIRC_ESQ','CIR_DIR', 'TIPO', \n",
        "                                'BITOLA', 'COR', 'COMP', 'COD_OP_01_ESQ', 'TERMINAL_ESQ','ACC_ESQ_1',\n",
        "                                'COD_OP_01_DIR','TERMINAL_DIR','ACC_DIR_1','SOLDA']].copy()\n",
        "\n",
        "# Gerando lista de Part number, sem duplicação\n",
        "lista_de_part_number = set(df['PROD_TERM'])\n",
        "\n",
        "# Removendo Ot's discrininadas\n",
        "indexNames = df[ df['OT_DISCRIMINADA'] == 'SIM' ].index\n",
        "df.drop(indexNames , inplace=True)\n",
        "df.drop(columns=['OT_DISCRIMINADA'],axis=1,inplace=True)"
      ],
      "execution_count": 3,
      "outputs": []
    },
    {
      "cell_type": "code",
      "metadata": {
        "id": "pjxsTP4JN6Ib"
      },
      "source": [
        "def analisar(list_,tol):\n",
        "  contar1 = 0\n",
        "  contar2 = 0\n",
        "  list_comp = list_.copy()\n",
        "  list_comp['Delta'] = 0\n",
        "  list_comp['COD_OP_01_ESQ'] = list_comp['COD_OP_01_ESQ'].apply(lambda x: 0 if x != 'U' else 'U')\n",
        "  list_comp['COD_OP_01_DIR'] = list_comp['COD_OP_01_DIR'].apply(lambda x: 0 if x != 'U' else 'U')\n",
        "  while contar1 < list_comp.shape[0]:\n",
        "    contar2 = contar1+1\n",
        "    while contar2 < list_comp.shape[0]:\n",
        "      if list_comp['PROD_TERM'].iloc[contar1]!=list_comp['PROD_TERM'].iloc[contar2]:\n",
        "        # Tipo+bit+cor\n",
        "        tipoA = list_comp['TIPO'].iloc[contar1]+list_comp['BITOLA'].iloc[contar1]+list_comp['COR'].iloc[contar1]\n",
        "        tipoB = list_comp['TIPO'].iloc[contar2]+list_comp['BITOLA'].iloc[contar2]+list_comp['COR'].iloc[contar2]\n",
        "        TAE = str(list_comp['COD_OP_01_ESQ'].iloc[contar1])+str(list_comp['TERMINAL_ESQ'].iloc[contar1])+str(list_comp['ACC_ESQ_1'].iloc[contar1])\n",
        "        TAD = str(list_comp['COD_OP_01_DIR'].iloc[contar1])+str(list_comp['TERMINAL_DIR'].iloc[contar1])+str(list_comp['ACC_DIR_1'].iloc[contar1])\n",
        "        TBE = str(list_comp['COD_OP_01_ESQ'].iloc[contar2])+str(list_comp['TERMINAL_ESQ'].iloc[contar2])+str(list_comp['ACC_ESQ_1'].iloc[contar2])\n",
        "        TBD = str(list_comp['COD_OP_01_DIR'].iloc[contar2])+str(list_comp['TERMINAL_DIR'].iloc[contar2])+str(list_comp['ACC_DIR_1'].iloc[contar2])\n",
        "        COMPA = int(list_comp['COMP'].iloc[contar1])\n",
        "        COMPB = int(list_comp['COMP'].iloc[contar2])\n",
        "        dif = abs(COMPA-COMPB)\n",
        "        JTA = str(list_comp['SOLDA'].iloc[contar1])[0]\n",
        "        JTB = str(list_comp['SOLDA'].iloc[contar2])[0]\n",
        "        if tipoA == tipoB:                            # Comparando Tipo,Bit e cor\n",
        "          if COMPA == COMPB or dif < tol:              # Checando dimensional\n",
        "            if TAE==TBE and TAD==TBD:                  # Terminais\n",
        "              list_comp['Delta'].iloc[contar1] ='Comum' \n",
        "              list_comp['Delta'].iloc[contar2] ='Comum'\n",
        "            if TAE==TBD and TAD==TBE:                  # Terminais\n",
        "              list_comp['Delta'].iloc[contar1] ='Comum' \n",
        "              list_comp['Delta'].iloc[contar2] ='Comum'\n",
        "\n",
        "      contar2 +=1\n",
        "    contar1+=1\n",
        "    contar2 = 0\n",
        "    list_comp['Delta'].loc[list_comp['Delta']==0]='DIF'\n",
        "    nova_lista = list_.copy()\n",
        "    nova_lista['Delta'] = list_comp['Delta']\n",
        "    nova_lista.fillna(0,inplace=True)\n",
        "    nova_lista.sort_values(by=['OT'],ascending=True,inplace=True)\n",
        "  return nova_lista"
      ],
      "execution_count": 4,
      "outputs": []
    },
    {
      "cell_type": "code",
      "metadata": {
        "id": "uITU2buEaYlR"
      },
      "source": [
        "# Contagem de saídas\n",
        "def contar_saidas(x):\n",
        "  valor = 0\n",
        "  for e in nova_lista3['Saida_esq']:\n",
        "    if e == x:\n",
        "      valor +=1\n",
        "  for d in nova_lista3['Saida_dir']:\n",
        "    if d == x:\n",
        "      valor +=1\n",
        "  return valor\n",
        "\n",
        "# Contagem de ligações \n",
        "def contar_lig(e,d):\n",
        "  contador = 0\n",
        "  valor = 0\n",
        "  while contador < nova_lista3.shape[0]:\n",
        "    if nova_lista3['Saida_esq'].loc[contador:contador].any() == e and nova_lista3['Saida_dir'].loc[contador:contador].any()==d:\n",
        "      valor +=1\n",
        "    if nova_lista3['Saida_esq'].loc[contador:contador].any() == d and nova_lista3['Saida_dir'].loc[contador:contador].any() == e:\n",
        "      valor +=1\n",
        "    contador +=1\n",
        "  return valor\n",
        "\n",
        "# Retorna o percentual de similaridade\n",
        "def perct(l,c):\n",
        "  if l==0:\n",
        "    new_l = 0\n",
        "  else:\n",
        "    new_l = l/c\n",
        "  return'{:.0%}'.format(new_l)\n",
        "\n",
        "# Calcula a quantidade de cobinações\n",
        "def calculate_combinations(n, r):\n",
        "  return factorial(n) // factorial(r) // factorial(n-r)\n",
        "\n",
        "def processar(new_df_circuitos):\n",
        "  # separa as saídas dos circuitos\n",
        "  new_df_circuitos['Saida_esq'] = new_df_circuitos['CIRC_ESQ'].str[-3:]\n",
        "  new_df_circuitos['Saida_dir'] = new_df_circuitos['CIR_DIR'].str[-3:]\n",
        "\n",
        "  # Calcula a quantidade de saídas\n",
        "  new_df_circuitos['qtde_sds_esq'] = new_df_circuitos['Saida_esq'].apply(contar_saidas)\n",
        "  new_df_circuitos['qtde_sds_dir'] = new_df_circuitos['Saida_dir'].apply(contar_saidas)\n",
        "\n",
        "  # Calcula a quantidade de ligações\n",
        "  new_df_circuitos['qtde_lig_esq'] = new_df_circuitos.apply(lambda x: contar_lig(x['Saida_esq'],x['Saida_dir']), axis=1)\n",
        "  new_df_circuitos['qtde_lig_dir'] = new_df_circuitos['qtde_lig_esq']\n",
        "\n",
        "  # Calcula o percetual de ligações\n",
        "  new_df_circuitos['Perct_lig_esq'] = new_df_circuitos.apply(lambda x: perct(x['qtde_lig_esq'],x['qtde_sds_esq']), axis=1)\n",
        "  new_df_circuitos['Perct_lig_dir'] = new_df_circuitos.apply(lambda x: perct(x['qtde_lig_dir'],x['qtde_sds_dir']), axis=1)\n",
        "  return new_df_circuitos\n",
        "\n",
        "def risk(simil,A,B):\n",
        "  if simil == 1:\n",
        "    return 'Alto'\n",
        "  else:\n",
        "    if (A+B)==1:\n",
        "      return 'Moderado'\n",
        "    else:\n",
        "      return 'Baixo'\n",
        "\n",
        "def ordenar(x):\n",
        "  if x == 'Alto':\n",
        "    return 1\n",
        "  else:\n",
        "    if x == 'Moderado':\n",
        "      return 2\n",
        "    else:\n",
        "      return 3\n",
        "\n",
        "# Barra de status simples\n",
        "def printProgressBar(i,max,postText):\n",
        "    n_bar =10 #size of progress bar\n",
        "    j= i/max\n",
        "    sys.stdout.write('\\r')\n",
        "    sys.stdout.write(f\"{postText} [{'=' * int(n_bar * j):{n_bar}s}] {int(100 * j)}%\")\n",
        "    sys.stdout.flush()\n",
        "\n",
        "# Critério de checker\n",
        "def checker(nE,nD,sE,sD):\n",
        "  detect = []\n",
        "  det = ''\n",
        "  if nE==1:\n",
        "    detect.append(sE)\n",
        "  if nD==1:\n",
        "    detect.append(sD)\n",
        "  if len(detect) > 1:\n",
        "    det = 'Adicionar pino de presença para as saídas'+ str(detect)\n",
        "  else:\n",
        "    det = 'Adicionar pino de presença para na saída'+ str(detect)\n",
        "  if not detect:\n",
        "    det = ''\n",
        "  return det\n",
        "\n",
        "# Testes de qualidade\n",
        "def QA(nA,nB,sA,sB,pA,pB):\n",
        "  sdsA = []\n",
        "  sdsB = []\n",
        "  pnA = []\n",
        "  pnB = []\n",
        "  qa =''\n",
        "  if nA!=0:\n",
        "    #pnA.append(pA)\n",
        "    #pnB.append(pB)\n",
        "    sdsA.append(sA)\n",
        "  if nB!=0:\n",
        "    #pnA.append(pA)\n",
        "    #pnB.append(pB)\n",
        "    sdsB.append(sB)\n",
        "  if sdsA != []:\n",
        "    if len(sdsA)>1:\n",
        "      qa = 'Testar PN ' + str(pA)+' no lugar do PN ' +str(pB)+' não direncionar as saídas '+str(sdsA)\n",
        "    else:\n",
        "      qa = 'Testar PN ' + str(pA)+' no lugar do PN ' +str(pB)+' não direncionar a saída '+str(sdsA)\n",
        "  else:\n",
        "    if sdsB !=[]:\n",
        "      if len(sdsB)>1:\n",
        "        qa = 'Testar PN ' + str(pB)+' no lugar do PN ' +str(pA)+' não direncionar as saídas '+str(sdsB)\n",
        "      else:\n",
        "        qa = 'Testar PN ' + str(pB)+' no lugar do PN ' +str(pA)+' não direncionar a saída '+str(sdsB)\n",
        "    else:\n",
        "      qa = 'Sem testes'\n",
        "  return qa\n",
        "# Formata o resultado\n",
        "def result(resultado):\n",
        "  New_resultado = pd.DataFrame(resultado,columns=['Similaridade','Part_numberA','Núm_saídas_diferentesA','Saídas_exclusivasA','De_Para_A','Núm_CktA','Part_numberB','Núm_saídas_diferentesB','Saídas_exclusivasB','De_Para_B','Núm_CktB'])\n",
        "  New_resultado['Risk2'] = New_resultado['Núm_saídas_diferentesA']+New_resultado['Núm_saídas_diferentesB']\n",
        "  New_resultado['Risk'] = New_resultado.apply(lambda x: risk(x['Similaridade'],x['Núm_saídas_diferentesA'],x['Núm_saídas_diferentesB']),axis=1)\n",
        "  New_resultado['Risk3'] = New_resultado['Risk'].apply(lambda x: ordenar(x))\n",
        "  New_resultado.sort_values(by=['Risk3'],inplace=True)\n",
        "  New_resultado.drop(columns=['Risk2','Risk3'],inplace=True)\n",
        "  New_resultado['Similaridade'] = New_resultado['Similaridade'].apply(lambda x: '{:.2%}'.format(x))\n",
        "  New_resultado.reset_index(drop=True,inplace=True)\n",
        "  New_resultado = New_resultado.reindex(columns=['Risk','Similaridade', 'Part_numberA', 'Núm_saídas_diferentesA',\n",
        "       'Saídas_exclusivasA', 'De_Para_A', 'Núm_CktA', 'Part_numberB',\n",
        "       'Núm_saídas_diferentesB', 'Saídas_exclusivasB', 'De_Para_B', 'Núm_CktB','Checker'])\n",
        "  New_resultado['Checker'] = New_resultado.apply(lambda x: checker(x.Núm_saídas_diferentesA,x.Núm_saídas_diferentesB,x.Saídas_exclusivasA,x.Saídas_exclusivasB),axis=1)\n",
        "  New_resultado['QA']=New_resultado.apply(lambda x: QA(x.Núm_saídas_diferentesA,x.Núm_saídas_diferentesB,x.Saídas_exclusivasA,x.Saídas_exclusivasB,x.Part_numberA,x.Part_numberB),axis=1)\n",
        "  return New_resultado\n",
        "def salvar(resultado):\n",
        "  # Lista de análise sem repetição\n",
        "  lista_QA = pd.DataFrame(set(result(resultado)['QA']),columns=['Testes_QA'])\n",
        "  lista_CK = pd.DataFrame(set(result(resultado)['Checker']),columns=['PPC_Checker'])\n",
        "  # Salvando o report.\n",
        "  result(resultado).to_csv('Analise_completa.csv')\n",
        "  lista_QA.to_csv('Analise_QA.csv')\n",
        "  lista_CK.to_csv('Analise_CK.csv')"
      ],
      "execution_count": 5,
      "outputs": []
    },
    {
      "cell_type": "markdown",
      "metadata": {
        "id": "5NLQ-zU8w4El"
      },
      "source": [
        "# Análise de dados"
      ]
    },
    {
      "cell_type": "code",
      "metadata": {
        "colab": {
          "base_uri": "https://localhost:8080/"
        },
        "id": "1Vtx_q7T-3gy",
        "outputId": "21ff59b2-5779-4b25-9a90-bb0f3988cdf0"
      },
      "source": [
        "# Calcular a quantidade de comparações\n",
        "lista_de_comparacao = []\n",
        "Total = 0\n",
        "n_comb = 0\n",
        "resultado = []\n",
        "n = calculate_combinations(len(lista_de_part_number), 2)\n",
        "print('Quantidade de Part numbers:',len(lista_de_part_number))\n",
        "print('Quantidade de comparações:',n)\n",
        "# Gera todas as combinações\n",
        "n_comb = 0\n",
        "for i in combinations(lista_de_part_number, 2):\n",
        "  printProgressBar(n_comb,n-1,\"Comparando...\")\n",
        "  pnA = i[0]\n",
        "  pnB = i[1]\n",
        "  #print('Num: ',n_comb,' Comparativo: ',pnA,' vs ',pnB,'// % Concluídos: ','{:.2%}'.format(n_comb/n), end='\\r', flush=True)\n",
        "  nova_lista = analisar(df[(df['PROD_TERM']==i[0]) | (df['PROD_TERM']==i[1])],50)\n",
        "  nova_lista['Total'] = 1\n",
        "  nova_lista['Delta'].loc[(nova_lista['Delta']=='DIF') & (nova_lista['PROD_TERM']==pnA)]='Adicionar'\n",
        "  nova_lista['Delta'].loc[(nova_lista['Delta']=='DIF') & (nova_lista['PROD_TERM']==pnB)]='Excluir'\n",
        "\n",
        "  nova_lista1 = nova_lista.copy()\n",
        "  nova_lista2 = nova_lista.copy()\n",
        "  nova_lista3 = pd.pivot_table(nova_lista1,index=['OT', 'CIRC_ESQ', 'CIR_DIR', 'TIPO', 'BITOLA', 'COR',\n",
        "                                                  'COMP', 'COD_OP_01_ESQ', 'TERMINAL_ESQ', 'ACC_ESQ_1', 'COD_OP_01_DIR',\n",
        "                                                  'TERMINAL_DIR', 'ACC_DIR_1', 'SOLDA','Delta'],values=[\"Total\"],columns=['PROD_TERM'],aggfunc=[np.sum],fill_value=0,)\n",
        "    \n",
        "  nova_lista3.columns = [col[2] for col in nova_lista3.columns]\n",
        "  nova_lista3.reset_index(inplace=True)\n",
        "  if 'Comum' in nova_lista3 ['Delta']:\n",
        "    cm = nova_lista3 ['Delta'].value_counts()['Comum']\n",
        "  else:\n",
        "    cm=0\n",
        "  perc = float(cm/nova_lista3.shape[0])\n",
        "\n",
        "  nova_lista3[pnA] = nova_lista3[pnA].apply(lambda x: pnA if x == 1 else 0)\n",
        "  nova_lista3[pnB] = nova_lista3[pnB].apply(lambda x: pnB if x == 1 else 0)\n",
        "  nova_lista4 = processar(nova_lista3)\n",
        "  cont = 0\n",
        "  sesq_ant = 0\n",
        "  sdir_ant = 0\n",
        "  qtde_saidaA = 0\n",
        "  qtde_saidaB = 0\n",
        "  lista_de_saidasA = []\n",
        "  lista2_de_saidasA = []\n",
        "  lista_de_saidasB = []\n",
        "  lista2_de_saidasB = []\n",
        "  qtde_ckt_A = []\n",
        "  qtde_ckt_B = []\n",
        "  while cont < nova_lista4.shape[0]:\n",
        "    if nova_lista4['Delta'][cont]!='Comum' and nova_lista4['Perct_lig_esq'][cont] == '100%':\n",
        "      if nova_lista4[pnA][cont]!=0:\n",
        "        if sesq_ant != nova_lista4['Saida_esq'][cont] and sdir_ant != nova_lista4['Saida_dir'][cont]:\n",
        "          sesq_ant = nova_lista4['Saida_esq'][cont]\n",
        "          sdir_ant = nova_lista4['Saida_dir'][cont]\n",
        "          qtde_saidaA+=1\n",
        "          lista_de_saidasA.append(nova_lista4['Saida_esq'][cont])\n",
        "          lista2_de_saidasA.append((nova_lista4['Saida_esq'][cont],nova_lista4['Saida_dir'][cont]))\n",
        "          qtde_ckt_A.append(nova_lista4['qtde_sds_esq'][cont])\n",
        "      else:\n",
        "        if sesq_ant != nova_lista4['Saida_esq'][cont] and sdir_ant != nova_lista4['Saida_dir'][cont]:\n",
        "          sdir_ant = nova_lista4['Saida_dir'][cont]\n",
        "          sesq_ant = nova_lista4['Saida_esq'][cont]\n",
        "          qtde_saidaB+=1\n",
        "          lista_de_saidasB.append(nova_lista4['Saida_esq'][cont])\n",
        "          lista2_de_saidasB.append((nova_lista4['Saida_esq'][cont],nova_lista4['Saida_dir'][cont]))\n",
        "          qtde_ckt_B.append(nova_lista4['qtde_sds_esq'][cont])\n",
        "\n",
        "    if nova_lista4['Delta'][cont]!='Comum' and nova_lista4['Perct_lig_dir'][cont] == '100%':\n",
        "      if nova_lista4[pnA][cont]!=0:\n",
        "        if sdir_ant != nova_lista4['Saida_dir'][cont] and sesq_ant != nova_lista4['Saida_esq'][cont]:\n",
        "          sesq_ant = nova_lista4['Saida_esq'][cont]\n",
        "          sdir_ant = nova_lista4['Saida_dir'][cont]\n",
        "          qtde_saidaA+=1\n",
        "          lista_de_saidasA.append(nova_lista4['Saida_dir'][cont])\n",
        "          lista2_de_saidasA.append((nova_lista4['Saida_dir'][cont],nova_lista4['Saida_esq'][cont]))\n",
        "          qtde_ckt_A.append(nova_lista4['qtde_sds_dir'][cont])\n",
        "      else:\n",
        "        if sdir_ant != nova_lista4['Saida_dir'][cont] and sesq_ant != nova_lista4['Saida_esq'][cont]:\n",
        "          sesq_ant = nova_lista4['Saida_esq'][cont]\n",
        "          sdir_ant = nova_lista4['Saida_dir'][cont]\n",
        "          qtde_saidaB+=1\n",
        "          lista_de_saidasB.append(nova_lista4['Saida_dir'][cont])\n",
        "          lista2_de_saidasB.append((nova_lista4['Saida_dir'][cont],nova_lista4['Saida_esq'][cont]))\n",
        "          qtde_ckt_B.append(nova_lista4['qtde_sds_dir'][cont])\n",
        "    cont+=1\n",
        "  n_comb+=1\n",
        "  #if n_comb ==4:\n",
        "  #  break\n",
        "  #resultado.append([perc,pnA,qtde_saidaA,', '.join(lista_de_saidasA),qtde_ckt_A,pnB,qtde_saidaB,', '.join(lista_de_saidasB),qtde_ckt_B])\n",
        "  resultado.append([perc,pnA,qtde_saidaA,', '.join(lista_de_saidasA),lista2_de_saidasA,qtde_ckt_A,pnB,qtde_saidaB,', '.join(lista_de_saidasB),lista2_de_saidasB,qtde_ckt_B])\n",
        "  salvar(resultado)"
      ],
      "execution_count": 6,
      "outputs": [
        {
          "output_type": "stream",
          "name": "stdout",
          "text": [
            "Quantidade de Part numbers: 14\n",
            "Quantidade de comparações: 91\n",
            "Comparando... [==========] 100%"
          ]
        }
      ]
    },
    {
      "cell_type": "markdown",
      "metadata": {
        "id": "ZyuSbiVhw_GU"
      },
      "source": [
        "# Report"
      ]
    },
    {
      "cell_type": "markdown",
      "metadata": {
        "id": "8aMuo3juynEW"
      },
      "source": [
        "1. Primeiro caso, envolve risco alto: Podemos notar que na primeira linha tem dois chicotes que 100% similares. Nesse caso, o sistema aponta como risco alto pois um pode para pelo outro no processo de teste elétrico.\n",
        "\n",
        "2. No segundo caso temos um risco moderado: Na segunda linha, temos dois chicotes que tem apenas uma saída diferente. Nesse caso, caso o operado direcione a peças que possue a diferença e não direcione para testar a saída exclusiva, pode acontecer de termos um peça com ramal a mais no cliente.\n",
        "\n",
        "3. No terceiro caso temos um risco baixo: aqui podemos existem muitas diferenças entre os chicotes, e isso não permite que um part number seja testado como outro."
      ]
    },
    {
      "cell_type": "code",
      "metadata": {
        "id": "qs4CN1t9rGmJ",
        "colab": {
          "base_uri": "https://localhost:8080/",
          "height": 253
        },
        "outputId": "3da90bc0-02b1-4627-de98-a298906c9b62"
      },
      "source": [
        "result(resultado).head(2)"
      ],
      "execution_count": 7,
      "outputs": [
        {
          "output_type": "execute_result",
          "data": {
            "text/html": [
              "<div>\n",
              "<style scoped>\n",
              "    .dataframe tbody tr th:only-of-type {\n",
              "        vertical-align: middle;\n",
              "    }\n",
              "\n",
              "    .dataframe tbody tr th {\n",
              "        vertical-align: top;\n",
              "    }\n",
              "\n",
              "    .dataframe thead th {\n",
              "        text-align: right;\n",
              "    }\n",
              "</style>\n",
              "<table border=\"1\" class=\"dataframe\">\n",
              "  <thead>\n",
              "    <tr style=\"text-align: right;\">\n",
              "      <th></th>\n",
              "      <th>Risk</th>\n",
              "      <th>Similaridade</th>\n",
              "      <th>Part_numberA</th>\n",
              "      <th>Núm_saídas_diferentesA</th>\n",
              "      <th>Saídas_exclusivasA</th>\n",
              "      <th>De_Para_A</th>\n",
              "      <th>Núm_CktA</th>\n",
              "      <th>Part_numberB</th>\n",
              "      <th>Núm_saídas_diferentesB</th>\n",
              "      <th>Saídas_exclusivasB</th>\n",
              "      <th>De_Para_B</th>\n",
              "      <th>Núm_CktB</th>\n",
              "      <th>Checker</th>\n",
              "      <th>QA</th>\n",
              "    </tr>\n",
              "  </thead>\n",
              "  <tbody>\n",
              "    <tr>\n",
              "      <th>0</th>\n",
              "      <td>Baixo</td>\n",
              "      <td>0.00%</td>\n",
              "      <td>322003R5P212              04A</td>\n",
              "      <td>2</td>\n",
              "      <td>130, 099</td>\n",
              "      <td>[(130, 050), (099, 022)]</td>\n",
              "      <td>[1, 2]</td>\n",
              "      <td>32200T15P012              04A</td>\n",
              "      <td>3</td>\n",
              "      <td>094, 008, 099</td>\n",
              "      <td>[(094, 014), (008, 015), (099, 022)]</td>\n",
              "      <td>[1, 1, 2]</td>\n",
              "      <td></td>\n",
              "      <td>Testar PN 322003R5P212              04A no lug...</td>\n",
              "    </tr>\n",
              "    <tr>\n",
              "      <th>1</th>\n",
              "      <td>Baixo</td>\n",
              "      <td>0.00%</td>\n",
              "      <td>322003R4M202              03A</td>\n",
              "      <td>9</td>\n",
              "      <td>113, 112, 011, 130, 027, 020, 115, 099, 101</td>\n",
              "      <td>[(113, 055), (112, 082), (011, 021), (130, 050...</td>\n",
              "      <td>[1, 1, 1, 1, 2, 4, 1, 1, 1]</td>\n",
              "      <td>32200T15P412              04A</td>\n",
              "      <td>10</td>\n",
              "      <td>045, 043, 020, 040, 026, 044, 042, 009, 027, 008</td>\n",
              "      <td>[(045, 082), (043, 055), (020, 054), (040, 054...</td>\n",
              "      <td>[1, 1, 4, 1, 2, 1, 1, 1, 2, 1]</td>\n",
              "      <td></td>\n",
              "      <td>Testar PN 322003R4M202              03A no lug...</td>\n",
              "    </tr>\n",
              "  </tbody>\n",
              "</table>\n",
              "</div>"
            ],
            "text/plain": [
              "    Risk  ...                                                 QA\n",
              "0  Baixo  ...  Testar PN 322003R5P212              04A no lug...\n",
              "1  Baixo  ...  Testar PN 322003R4M202              03A no lug...\n",
              "\n",
              "[2 rows x 14 columns]"
            ]
          },
          "metadata": {},
          "execution_count": 7
        }
      ]
    }
  ]
}