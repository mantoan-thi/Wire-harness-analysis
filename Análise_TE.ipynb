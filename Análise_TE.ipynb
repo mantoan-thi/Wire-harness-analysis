{
  "nbformat": 4,
  "nbformat_minor": 0,
  "metadata": {
    "colab": {
      "name": "Análise_TE.ipynb",
      "provenance": [],
      "authorship_tag": "ABX9TyMPGL2mkHp9spi9y5TfdP8T",
      "include_colab_link": true
    },
    "kernelspec": {
      "name": "python3",
      "display_name": "Python 3"
    },
    "language_info": {
      "name": "python"
    }
  },
  "cells": [
    {
      "cell_type": "markdown",
      "metadata": {
        "id": "view-in-github",
        "colab_type": "text"
      },
      "source": [
        "<a href=\"https://colab.research.google.com/github/mantoan-thi/Wire-harness-analysis/blob/main/An%C3%A1lise_TE.ipynb\" target=\"_parent\"><img src=\"https://colab.research.google.com/assets/colab-badge.svg\" alt=\"Open In Colab\"/></a>"
      ]
    },
    {
      "cell_type": "markdown",
      "metadata": {
        "id": "ANCcmL0CPmjc"
      },
      "source": [
        "# Instação de biblioteca para trabalhar com Excel"
      ]
    },
    {
      "cell_type": "code",
      "metadata": {
        "id": "MHArPxFNPkJ7"
      },
      "source": [
        "!pip install xlsxwriter"
      ],
      "execution_count": null,
      "outputs": []
    },
    {
      "cell_type": "markdown",
      "metadata": {
        "id": "BGR8qxzHPxyK"
      },
      "source": [
        "# Nova secção"
      ]
    },
    {
      "cell_type": "code",
      "metadata": {
        "id": "LlR82SCOP2hQ"
      },
      "source": [
        "import pandas as pd\n",
        "import numpy as np\n",
        "from timeit import default_timer as timer\n",
        "from datetime import timedelta"
      ],
      "execution_count": 2,
      "outputs": []
    },
    {
      "cell_type": "markdown",
      "metadata": {
        "id": "HmY2mtHNQAhq"
      },
      "source": [
        "Carregando dados"
      ]
    },
    {
      "cell_type": "code",
      "metadata": {
        "id": "U_GRl_yXQETd"
      },
      "source": [
        "df_circuitos = pd.read_excel('/content/Consulta BOM v15.xlsm',sheet_name='CIRCUITO')"
      ],
      "execution_count": 15,
      "outputs": []
    },
    {
      "cell_type": "markdown",
      "metadata": {
        "id": "tcG9doEOQaL6"
      },
      "source": [
        "Selecionando somentes colunas importantes"
      ]
    },
    {
      "cell_type": "code",
      "metadata": {
        "id": "dqPj_21oQL-q"
      },
      "source": [
        "# Selecionando somentes colunas importantes\n",
        "def selecionar_colunas(df_circuitos):\n",
        "  if 'OT_DISCRIMINADA' in df_circuitos.columns:\n",
        "    df_circuitos = df_circuitos[['PROD_TERM', 'OT', 'OT_DISCRIMINADA', 'CIRC_ESQ','CIR_DIR', 'TIPO', \n",
        "                                'BITOLA', 'COR', 'COMP', 'COD_OP_01_ESQ', 'TERMINAL_ESQ','ACC_ESQ_1',\n",
        "                                'COD_OP_01_DIR','TERMINAL_DIR','ACC_DIR_1','SOLDA']].copy()\n",
        "\n",
        "    # Obtenha os nomes dos índices para os quais a coluna 'OT_DISCRIMINADA' tem o valor SIM\n",
        "\n",
        "    index_ot_discriminada = df_circuitos[df_circuitos['OT_DISCRIMINADA']=='SIM'].index\n",
        "    if index_ot_discriminada.shape[0] > 0: # Excluindo esses índices de linha de dataFrame\n",
        "      df_circuitos.drop(index_ot_discriminada, inplace=True)\n",
        "      df_circuitos.drop(columns=['OT_DISCRIMINADA'],axis=1, inplace=True)\n",
        "    df_circuitos.fillna(0,inplace=True)\n",
        "\n",
        "  df_circuitos['COD_OP_01_ESQ'] = df_circuitos['COD_OP_01_ESQ'].apply(lambda x: 0 if x != 'U' else 'U')\n",
        "  df_circuitos['COD_OP_01_DIR'] = df_circuitos['COD_OP_01_DIR'].apply(lambda x: 0 if x != 'U' else 'U')\n",
        "  df_circuitos.head()\n",
        "  # Quantidade de circuitos por part number\n",
        "  lista_pn = []\n",
        "  pn_anterior = 0\n",
        "  for pn in df_circuitos['PROD_TERM']:\n",
        "    if pn_anterior != pn:\n",
        "      pn_anterior = pn\n",
        "      qtde = df_circuitos[df_circuitos['PROD_TERM']==pn].shape[0]\n",
        "      lista_pn.append([pn,qtde])\n",
        "  lista_pn =pd.DataFrame(lista_pn,columns=['Part_number','Qtde'])\n",
        "  lista_pn.sort_values(by=['Qtde'],ascending=False,inplace=True)\n",
        "  lista_pn.reset_index(inplace=True,drop=True)\n",
        "\n",
        "\n",
        "  qtde_pn = lista_pn.shape[0]\n",
        "  menor_pn = lista_pn['Part_number'][-1:].values[0]\n",
        "  maior_pn = lista_pn['Part_number'][0]\n",
        "  Describ = lista_pn.describe()\n",
        "  return lista_pn,df_circuitos\n"
      ],
      "execution_count": 52,
      "outputs": []
    },
    {
      "cell_type": "markdown",
      "metadata": {
        "id": "M5GBNSsBQgzy"
      },
      "source": [
        "Comparando"
      ]
    },
    {
      "cell_type": "code",
      "metadata": {
        "id": "WhTm3s05QRrR"
      },
      "source": [
        "def analisar(list_comp,tol):\n",
        "  contar1 = 0\n",
        "  contar2 = 0\n",
        "  list_comp['Delta'] = 0\n",
        "  while contar1 < list_comp.shape[0]:\n",
        "    contar2 = contar1+1\n",
        "    while contar2 < list_comp.shape[0]:\n",
        "      if list_comp['PROD_TERM'].iloc[contar1]!=list_comp['PROD_TERM'].iloc[contar2]:\n",
        "        # Tipo+bit+cor\n",
        "        tipoA = list_comp['TIPO'].iloc[contar1]+list_comp['BITOLA'].iloc[contar1]+list_comp['COR'].iloc[contar1]\n",
        "        tipoB = list_comp['TIPO'].iloc[contar2]+list_comp['BITOLA'].iloc[contar2]+list_comp['COR'].iloc[contar2]\n",
        "        TAE = str(list_comp['COD_OP_01_ESQ'].iloc[contar1])+str(list_comp['TERMINAL_ESQ'].iloc[contar1])+str(list_comp['ACC_ESQ_1'].iloc[contar1])\n",
        "        TAD = str(list_comp['COD_OP_01_DIR'].iloc[contar1])+str(list_comp['TERMINAL_DIR'].iloc[contar1])+str(list_comp['ACC_DIR_1'].iloc[contar1])\n",
        "        TBE = str(list_comp['COD_OP_01_ESQ'].iloc[contar2])+str(list_comp['TERMINAL_ESQ'].iloc[contar2])+str(list_comp['ACC_ESQ_1'].iloc[contar2])\n",
        "        TBD = str(list_comp['COD_OP_01_DIR'].iloc[contar2])+str(list_comp['TERMINAL_DIR'].iloc[contar2])+str(list_comp['ACC_DIR_1'].iloc[contar2])\n",
        "        COMPA = int(list_comp['COMP'].iloc[contar1])\n",
        "        COMPB = int(list_comp['COMP'].iloc[contar2])\n",
        "        dif = abs(COMPA-COMPB)\n",
        "        JTA = str(list_comp['SOLDA'].iloc[contar1])[0]\n",
        "        JTB = str(list_comp['SOLDA'].iloc[contar2])[0]\n",
        "        if tipoA == tipoB:                            # Comparando Tipo,Bit e cor\n",
        "          if COMPA == COMPB or dif < tol:              # Checando dimensional\n",
        "            if TAE==TBE and TAD==TBD:                  # Terminais\n",
        "              list_comp['Delta'].iloc[contar1] ='Comum' \n",
        "              list_comp['Delta'].iloc[contar2] ='Comum'\n",
        "            if TAE==TBD and TAD==TBE:                  # Terminais\n",
        "              list_comp['Delta'].iloc[contar1] ='Comum' \n",
        "              list_comp['Delta'].iloc[contar2] ='Comum'\n",
        "\n",
        "      contar2 +=1\n",
        "    contar1+=1\n",
        "    contar2 = 0\n",
        "    list_comp['Delta'].loc[list_comp['Delta']==0]='DIF'\n",
        "    lista_analisada = list_comp.sort_values(by=['OT'],ascending=True,inplace=True)\n",
        "  return list_comp"
      ],
      "execution_count": 85,
      "outputs": []
    },
    {
      "cell_type": "code",
      "metadata": {
        "id": "scDl8LGdQvm8"
      },
      "source": [
        "def contar_saidas(x):\n",
        "  valor = 0\n",
        "  for e in nova_lista3['Saida_esq']:\n",
        "    if e == x:\n",
        "      valor +=1\n",
        "  for d in nova_lista3['Saida_dir']:\n",
        "    if d == x:\n",
        "      valor +=1\n",
        "  return valor"
      ],
      "execution_count": 102,
      "outputs": []
    },
    {
      "cell_type": "code",
      "metadata": {
        "id": "ggLHk2gJQxMz"
      },
      "source": [
        "def contar_lig(e,d):\n",
        "  contador = 0\n",
        "  valor = 0\n",
        "  while contador < nova_lista3.shape[0]:\n",
        "    if nova_lista3['Saida_esq'].loc[contador:contador].any() == e and nova_lista3['Saida_dir'].loc[contador:contador].any()==d:\n",
        "      valor +=1\n",
        "    if nova_lista3['Saida_esq'].loc[contador:contador].any() == d and nova_lista3['Saida_dir'].loc[contador:contador].any() == e:\n",
        "      valor +=1\n",
        "    contador +=1\n",
        "  return valor"
      ],
      "execution_count": 103,
      "outputs": []
    },
    {
      "cell_type": "code",
      "metadata": {
        "id": "1o7irloRQzRP"
      },
      "source": [
        "def perct(l,c):\n",
        "  return'{:.0%}'.format(l/c)"
      ],
      "execution_count": 104,
      "outputs": []
    },
    {
      "cell_type": "code",
      "metadata": {
        "id": "aB5l6dXLQ2XB"
      },
      "source": [
        "def processar(new_df_circuitos):\n",
        "  # separa as saídas dos circuitos\n",
        "  new_df_circuitos['Saida_esq'] = new_df_circuitos['CIRC_ESQ'].str[-3:]\n",
        "  new_df_circuitos['Saida_dir'] = new_df_circuitos['CIR_DIR'].str[-3:]\n",
        "\n",
        "  # Calcula a quantidade de saídas\n",
        "  new_df_circuitos['qtde_sds_esq'] = new_df_circuitos['Saida_esq'].apply(contar_saidas)\n",
        "  new_df_circuitos['qtde_sds_dir'] = new_df_circuitos['Saida_dir'].apply(contar_saidas)\n",
        "\n",
        "  # Calcula a quantidade de ligações\n",
        "  new_df_circuitos['qtde_lig_esq'] = new_df_circuitos.apply(lambda x: contar_lig(x['Saida_esq'],x['Saida_dir']), axis=1)\n",
        "  new_df_circuitos['qtde_lig_dir'] = new_df_circuitos['qtde_lig_esq']\n",
        "\n",
        "  # Calcula o percetual de ligações\n",
        "\n",
        "  new_df_circuitos['Perct_lig_esq'] = new_df_circuitos.apply(lambda x: perct(x['qtde_lig_esq'],x['qtde_sds_esq']), axis=1)\n",
        "  new_df_circuitos['Perct_lig_dir'] = new_df_circuitos.apply(lambda x: perct(x['qtde_lig_dir'],x['qtde_sds_dir']), axis=1)\n",
        "  return new_df_circuitos"
      ],
      "execution_count": 105,
      "outputs": []
    },
    {
      "cell_type": "code",
      "metadata": {
        "colab": {
          "base_uri": "https://localhost:8080/"
        },
        "id": "gjfQSHYpREid",
        "outputId": "d87e2d45-ad02-4710-8bd7-ec50ead7240d"
      },
      "source": [
        "# Calcular a quantidade de comparações\n",
        "lista_pn,df = selecionar_colunas(df_circuitos)\n",
        "contador1 =0\n",
        "contador2 = 0\n",
        "lista_de_comparacao = []\n",
        "Total = 0\n",
        "\n",
        "cont = 0\n",
        "qtde_saidaA = 0\n",
        "qtde_saidaB = 0\n",
        "lista_de_saidasA = []\n",
        "lista_de_saidasB = []\n",
        "qtde_ckt_A = []\n",
        "qtde_ckt_B = []\n",
        "resultado = []\n",
        "while contador1 <= lista_pn.shape[0]:\n",
        "  contador2=contador1+1\n",
        "  while contador2 <= lista_pn.shape[0]:\n",
        "\n",
        "    pnA = lista_pn['Part_number'][contador1]\n",
        "    pnB = lista_pn['Part_number'][contador2]\n",
        "\n",
        "    list_comp = df[(df['PROD_TERM'] == pnA) | (df['PROD_TERM']==pnB)]\n",
        "    nova_lista = analisar(list_comp,50)\n",
        "    nova_lista['Total'] = 1\n",
        "    nova_lista['Delta'].loc[(nova_lista['Delta']=='DIF') & (nova_lista['PROD_TERM']==pnA)]='Adicionar'\n",
        "    nova_lista['Delta'].loc[(nova_lista['Delta']=='DIF') & (nova_lista['PROD_TERM']==pnB)]='Excluir'\n",
        "\n",
        "    nova_lista1 = nova_lista.copy()\n",
        "    nova_lista2 = nova_lista.copy()\n",
        "    nova_lista3 = pd.pivot_table(nova_lista1,index=['OT', 'CIRC_ESQ', 'CIR_DIR', 'TIPO', 'BITOLA', 'COR',\n",
        "       'COMP', 'COD_OP_01_ESQ', 'TERMINAL_ESQ', 'ACC_ESQ_1', 'COD_OP_01_DIR',\n",
        "       'TERMINAL_DIR', 'ACC_DIR_1', 'SOLDA','Delta'],values=[\"Total\"],columns=['PROD_TERM'],aggfunc=[np.sum],fill_value=0,)\n",
        "    \n",
        "    nova_lista3.columns = [col[2] for col in nova_lista3.columns]\n",
        "    nova_lista3.reset_index(inplace=True)\n",
        "\n",
        "    nova_lista3[pnA] = nova_lista3[pnA].apply(lambda x: pnA if x == 1 else 0)\n",
        "    nova_lista3[pnB] = nova_lista3[pnB].apply(lambda x: pnB if x == 1 else 0)\n",
        "    nova_lista4 = processar(nova_lista3)\n",
        "\n",
        "    while cont < nova_lista4.shape[0]:\n",
        "      if nova_lista4['Delta'][cont]!='Comum' and nova_lista4['Perct_lig_esq'][cont] == '100%':\n",
        "        if nova_lista4[pnA][cont]!=0:\n",
        "          qtde_saidaA+=1\n",
        "          lista_de_saidasA.append(nova_lista4['Saida_esq'][cont])\n",
        "          qtde_ckt_A.append(nova_lista4['qtde_sds_esq'][cont])\n",
        "        else:\n",
        "          qtde_saidaB+=1\n",
        "          lista_de_saidasB.append(nova_lista4['Saida_esq'][cont])\n",
        "          qtde_ckt_B.append(nova_lista4['qtde_sds_dir'][cont])\n",
        "      if nova_lista4['Delta'][cont]!='Comum' and nova_lista4['Perct_lig_dir'][cont] == '100%':\n",
        "        if nova_lista4[pnA][cont]!=0:\n",
        "          qtde_saidaA+=1\n",
        "          lista_de_saidasA.append(nova_lista4['Saida_dir'][cont])\n",
        "          qtde_ckt_A.append(nova_lista4['qtde_sds_esq'][cont])\n",
        "        else:\n",
        "          qtde_saidaB+=1\n",
        "          lista_de_saidasB.append(nova_lista4['Saida_dir'][cont])\n",
        "          qtde_ckt_B.append(nova_lista4['qtde_sds_dir'][cont])\n",
        "      cont+=1\n",
        "    resultado.append([pnA,qtde_saidaA,', '.join(lista_de_saidasA),qtde_ckt_A,pnB,qtde_saidaB,', '.join(lista_de_saidasB),qtde_ckt_B])\n",
        "\n",
        "\n",
        "\n",
        "    lista_de_comparacao.append(lista_pn['Part_number'][contador1]+' vs '+lista_pn['Part_number'][contador2])\n",
        "    contador2+=1\n",
        "  contador1+=1\n",
        "  contador2 = 0\n",
        "#lista_de_comparacao = pd.DataFrame(lista_de_comparacao,columns=['Part Numbers'])\n",
        "pd.DataFrame(resultado,columns=['PNA','Núm_saídas_diferentes','Saídas_exclusivas','Núm_CktA','PNB','Núm_saídas_diferentesB','Saídas_exclusivasB','Núm_CktB'])"
      ],
      "execution_count": null,
      "outputs": [
        {
          "output_type": "stream",
          "name": "stderr",
          "text": [
            "/usr/local/lib/python3.7/dist-packages/ipykernel_launcher.py:4: SettingWithCopyWarning: \n",
            "A value is trying to be set on a copy of a slice from a DataFrame.\n",
            "Try using .loc[row_indexer,col_indexer] = value instead\n",
            "\n",
            "See the caveats in the documentation: https://pandas.pydata.org/pandas-docs/stable/user_guide/indexing.html#returning-a-view-versus-a-copy\n",
            "  after removing the cwd from sys.path.\n",
            "/usr/local/lib/python3.7/dist-packages/pandas/core/indexing.py:670: SettingWithCopyWarning: \n",
            "A value is trying to be set on a copy of a slice from a DataFrame\n",
            "\n",
            "See the caveats in the documentation: https://pandas.pydata.org/pandas-docs/stable/user_guide/indexing.html#returning-a-view-versus-a-copy\n",
            "  iloc._setitem_with_indexer(indexer, value)\n",
            "/usr/local/lib/python3.7/dist-packages/ipykernel_launcher.py:33: SettingWithCopyWarning: \n",
            "A value is trying to be set on a copy of a slice from a DataFrame\n",
            "\n",
            "See the caveats in the documentation: https://pandas.pydata.org/pandas-docs/stable/user_guide/indexing.html#returning-a-view-versus-a-copy\n",
            "/usr/local/lib/python3.7/dist-packages/ipykernel_launcher.py:34: SettingWithCopyWarning: \n",
            "A value is trying to be set on a copy of a slice from a DataFrame\n",
            "\n",
            "See the caveats in the documentation: https://pandas.pydata.org/pandas-docs/stable/user_guide/indexing.html#returning-a-view-versus-a-copy\n",
            "/usr/local/lib/python3.7/dist-packages/ipykernel_launcher.py:24: SettingWithCopyWarning: \n",
            "A value is trying to be set on a copy of a slice from a DataFrame\n",
            "\n",
            "See the caveats in the documentation: https://pandas.pydata.org/pandas-docs/stable/user_guide/indexing.html#returning-a-view-versus-a-copy\n",
            "/usr/local/lib/python3.7/dist-packages/ipykernel_launcher.py:25: SettingWithCopyWarning: \n",
            "A value is trying to be set on a copy of a slice from a DataFrame\n",
            "\n",
            "See the caveats in the documentation: https://pandas.pydata.org/pandas-docs/stable/user_guide/indexing.html#returning-a-view-versus-a-copy\n",
            "/usr/local/lib/python3.7/dist-packages/ipykernel_launcher.py:27: SettingWithCopyWarning: \n",
            "A value is trying to be set on a copy of a slice from a DataFrame\n",
            "\n",
            "See the caveats in the documentation: https://pandas.pydata.org/pandas-docs/stable/user_guide/indexing.html#returning-a-view-versus-a-copy\n",
            "/usr/local/lib/python3.7/dist-packages/ipykernel_launcher.py:28: SettingWithCopyWarning: \n",
            "A value is trying to be set on a copy of a slice from a DataFrame\n",
            "\n",
            "See the caveats in the documentation: https://pandas.pydata.org/pandas-docs/stable/user_guide/indexing.html#returning-a-view-versus-a-copy\n",
            "/usr/local/lib/python3.7/dist-packages/ipykernel_launcher.py:25: SettingWithCopyWarning: \n",
            "A value is trying to be set on a copy of a slice from a DataFrame.\n",
            "Try using .loc[row_indexer,col_indexer] = value instead\n",
            "\n",
            "See the caveats in the documentation: https://pandas.pydata.org/pandas-docs/stable/user_guide/indexing.html#returning-a-view-versus-a-copy\n",
            "/usr/local/lib/python3.7/dist-packages/ipykernel_launcher.py:26: SettingWithCopyWarning: \n",
            "A value is trying to be set on a copy of a slice from a DataFrame\n",
            "\n",
            "See the caveats in the documentation: https://pandas.pydata.org/pandas-docs/stable/user_guide/indexing.html#returning-a-view-versus-a-copy\n",
            "/usr/local/lib/python3.7/dist-packages/ipykernel_launcher.py:4: SettingWithCopyWarning: \n",
            "A value is trying to be set on a copy of a slice from a DataFrame.\n",
            "Try using .loc[row_indexer,col_indexer] = value instead\n",
            "\n",
            "See the caveats in the documentation: https://pandas.pydata.org/pandas-docs/stable/user_guide/indexing.html#returning-a-view-versus-a-copy\n",
            "  after removing the cwd from sys.path.\n",
            "/usr/local/lib/python3.7/dist-packages/pandas/core/indexing.py:670: SettingWithCopyWarning: \n",
            "A value is trying to be set on a copy of a slice from a DataFrame\n",
            "\n",
            "See the caveats in the documentation: https://pandas.pydata.org/pandas-docs/stable/user_guide/indexing.html#returning-a-view-versus-a-copy\n",
            "  iloc._setitem_with_indexer(indexer, value)\n",
            "/usr/local/lib/python3.7/dist-packages/ipykernel_launcher.py:24: SettingWithCopyWarning: \n",
            "A value is trying to be set on a copy of a slice from a DataFrame\n",
            "\n",
            "See the caveats in the documentation: https://pandas.pydata.org/pandas-docs/stable/user_guide/indexing.html#returning-a-view-versus-a-copy\n",
            "/usr/local/lib/python3.7/dist-packages/ipykernel_launcher.py:25: SettingWithCopyWarning: \n",
            "A value is trying to be set on a copy of a slice from a DataFrame\n",
            "\n",
            "See the caveats in the documentation: https://pandas.pydata.org/pandas-docs/stable/user_guide/indexing.html#returning-a-view-versus-a-copy\n",
            "/usr/local/lib/python3.7/dist-packages/ipykernel_launcher.py:33: SettingWithCopyWarning: \n",
            "A value is trying to be set on a copy of a slice from a DataFrame\n",
            "\n",
            "See the caveats in the documentation: https://pandas.pydata.org/pandas-docs/stable/user_guide/indexing.html#returning-a-view-versus-a-copy\n",
            "/usr/local/lib/python3.7/dist-packages/ipykernel_launcher.py:34: SettingWithCopyWarning: \n",
            "A value is trying to be set on a copy of a slice from a DataFrame\n",
            "\n",
            "See the caveats in the documentation: https://pandas.pydata.org/pandas-docs/stable/user_guide/indexing.html#returning-a-view-versus-a-copy\n",
            "/usr/local/lib/python3.7/dist-packages/ipykernel_launcher.py:27: SettingWithCopyWarning: \n",
            "A value is trying to be set on a copy of a slice from a DataFrame\n",
            "\n",
            "See the caveats in the documentation: https://pandas.pydata.org/pandas-docs/stable/user_guide/indexing.html#returning-a-view-versus-a-copy\n",
            "/usr/local/lib/python3.7/dist-packages/ipykernel_launcher.py:28: SettingWithCopyWarning: \n",
            "A value is trying to be set on a copy of a slice from a DataFrame\n",
            "\n",
            "See the caveats in the documentation: https://pandas.pydata.org/pandas-docs/stable/user_guide/indexing.html#returning-a-view-versus-a-copy\n",
            "/usr/local/lib/python3.7/dist-packages/ipykernel_launcher.py:25: SettingWithCopyWarning: \n",
            "A value is trying to be set on a copy of a slice from a DataFrame.\n",
            "Try using .loc[row_indexer,col_indexer] = value instead\n",
            "\n",
            "See the caveats in the documentation: https://pandas.pydata.org/pandas-docs/stable/user_guide/indexing.html#returning-a-view-versus-a-copy\n",
            "/usr/local/lib/python3.7/dist-packages/ipykernel_launcher.py:26: SettingWithCopyWarning: \n",
            "A value is trying to be set on a copy of a slice from a DataFrame\n",
            "\n",
            "See the caveats in the documentation: https://pandas.pydata.org/pandas-docs/stable/user_guide/indexing.html#returning-a-view-versus-a-copy\n",
            "/usr/local/lib/python3.7/dist-packages/ipykernel_launcher.py:4: SettingWithCopyWarning: \n",
            "A value is trying to be set on a copy of a slice from a DataFrame.\n",
            "Try using .loc[row_indexer,col_indexer] = value instead\n",
            "\n",
            "See the caveats in the documentation: https://pandas.pydata.org/pandas-docs/stable/user_guide/indexing.html#returning-a-view-versus-a-copy\n",
            "  after removing the cwd from sys.path.\n",
            "/usr/local/lib/python3.7/dist-packages/pandas/core/indexing.py:670: SettingWithCopyWarning: \n",
            "A value is trying to be set on a copy of a slice from a DataFrame\n",
            "\n",
            "See the caveats in the documentation: https://pandas.pydata.org/pandas-docs/stable/user_guide/indexing.html#returning-a-view-versus-a-copy\n",
            "  iloc._setitem_with_indexer(indexer, value)\n",
            "/usr/local/lib/python3.7/dist-packages/ipykernel_launcher.py:24: SettingWithCopyWarning: \n",
            "A value is trying to be set on a copy of a slice from a DataFrame\n",
            "\n",
            "See the caveats in the documentation: https://pandas.pydata.org/pandas-docs/stable/user_guide/indexing.html#returning-a-view-versus-a-copy\n",
            "/usr/local/lib/python3.7/dist-packages/ipykernel_launcher.py:25: SettingWithCopyWarning: \n",
            "A value is trying to be set on a copy of a slice from a DataFrame\n",
            "\n",
            "See the caveats in the documentation: https://pandas.pydata.org/pandas-docs/stable/user_guide/indexing.html#returning-a-view-versus-a-copy\n",
            "/usr/local/lib/python3.7/dist-packages/ipykernel_launcher.py:33: SettingWithCopyWarning: \n",
            "A value is trying to be set on a copy of a slice from a DataFrame\n",
            "\n",
            "See the caveats in the documentation: https://pandas.pydata.org/pandas-docs/stable/user_guide/indexing.html#returning-a-view-versus-a-copy\n",
            "/usr/local/lib/python3.7/dist-packages/ipykernel_launcher.py:34: SettingWithCopyWarning: \n",
            "A value is trying to be set on a copy of a slice from a DataFrame\n",
            "\n",
            "See the caveats in the documentation: https://pandas.pydata.org/pandas-docs/stable/user_guide/indexing.html#returning-a-view-versus-a-copy\n",
            "/usr/local/lib/python3.7/dist-packages/ipykernel_launcher.py:27: SettingWithCopyWarning: \n",
            "A value is trying to be set on a copy of a slice from a DataFrame\n",
            "\n",
            "See the caveats in the documentation: https://pandas.pydata.org/pandas-docs/stable/user_guide/indexing.html#returning-a-view-versus-a-copy\n",
            "/usr/local/lib/python3.7/dist-packages/ipykernel_launcher.py:28: SettingWithCopyWarning: \n",
            "A value is trying to be set on a copy of a slice from a DataFrame\n",
            "\n",
            "See the caveats in the documentation: https://pandas.pydata.org/pandas-docs/stable/user_guide/indexing.html#returning-a-view-versus-a-copy\n",
            "/usr/local/lib/python3.7/dist-packages/ipykernel_launcher.py:25: SettingWithCopyWarning: \n",
            "A value is trying to be set on a copy of a slice from a DataFrame.\n",
            "Try using .loc[row_indexer,col_indexer] = value instead\n",
            "\n",
            "See the caveats in the documentation: https://pandas.pydata.org/pandas-docs/stable/user_guide/indexing.html#returning-a-view-versus-a-copy\n",
            "/usr/local/lib/python3.7/dist-packages/ipykernel_launcher.py:26: SettingWithCopyWarning: \n",
            "A value is trying to be set on a copy of a slice from a DataFrame\n",
            "\n",
            "See the caveats in the documentation: https://pandas.pydata.org/pandas-docs/stable/user_guide/indexing.html#returning-a-view-versus-a-copy\n",
            "/usr/local/lib/python3.7/dist-packages/ipykernel_launcher.py:4: SettingWithCopyWarning: \n",
            "A value is trying to be set on a copy of a slice from a DataFrame.\n",
            "Try using .loc[row_indexer,col_indexer] = value instead\n",
            "\n",
            "See the caveats in the documentation: https://pandas.pydata.org/pandas-docs/stable/user_guide/indexing.html#returning-a-view-versus-a-copy\n",
            "  after removing the cwd from sys.path.\n",
            "/usr/local/lib/python3.7/dist-packages/pandas/core/indexing.py:670: SettingWithCopyWarning: \n",
            "A value is trying to be set on a copy of a slice from a DataFrame\n",
            "\n",
            "See the caveats in the documentation: https://pandas.pydata.org/pandas-docs/stable/user_guide/indexing.html#returning-a-view-versus-a-copy\n",
            "  iloc._setitem_with_indexer(indexer, value)\n",
            "/usr/local/lib/python3.7/dist-packages/ipykernel_launcher.py:24: SettingWithCopyWarning: \n",
            "A value is trying to be set on a copy of a slice from a DataFrame\n",
            "\n",
            "See the caveats in the documentation: https://pandas.pydata.org/pandas-docs/stable/user_guide/indexing.html#returning-a-view-versus-a-copy\n",
            "/usr/local/lib/python3.7/dist-packages/ipykernel_launcher.py:25: SettingWithCopyWarning: \n",
            "A value is trying to be set on a copy of a slice from a DataFrame\n",
            "\n",
            "See the caveats in the documentation: https://pandas.pydata.org/pandas-docs/stable/user_guide/indexing.html#returning-a-view-versus-a-copy\n",
            "/usr/local/lib/python3.7/dist-packages/ipykernel_launcher.py:33: SettingWithCopyWarning: \n",
            "A value is trying to be set on a copy of a slice from a DataFrame\n",
            "\n",
            "See the caveats in the documentation: https://pandas.pydata.org/pandas-docs/stable/user_guide/indexing.html#returning-a-view-versus-a-copy\n",
            "/usr/local/lib/python3.7/dist-packages/ipykernel_launcher.py:34: SettingWithCopyWarning: \n",
            "A value is trying to be set on a copy of a slice from a DataFrame\n",
            "\n",
            "See the caveats in the documentation: https://pandas.pydata.org/pandas-docs/stable/user_guide/indexing.html#returning-a-view-versus-a-copy\n",
            "/usr/local/lib/python3.7/dist-packages/ipykernel_launcher.py:27: SettingWithCopyWarning: \n",
            "A value is trying to be set on a copy of a slice from a DataFrame\n",
            "\n",
            "See the caveats in the documentation: https://pandas.pydata.org/pandas-docs/stable/user_guide/indexing.html#returning-a-view-versus-a-copy\n",
            "/usr/local/lib/python3.7/dist-packages/ipykernel_launcher.py:28: SettingWithCopyWarning: \n",
            "A value is trying to be set on a copy of a slice from a DataFrame\n",
            "\n",
            "See the caveats in the documentation: https://pandas.pydata.org/pandas-docs/stable/user_guide/indexing.html#returning-a-view-versus-a-copy\n",
            "/usr/local/lib/python3.7/dist-packages/ipykernel_launcher.py:25: SettingWithCopyWarning: \n",
            "A value is trying to be set on a copy of a slice from a DataFrame.\n",
            "Try using .loc[row_indexer,col_indexer] = value instead\n",
            "\n",
            "See the caveats in the documentation: https://pandas.pydata.org/pandas-docs/stable/user_guide/indexing.html#returning-a-view-versus-a-copy\n",
            "/usr/local/lib/python3.7/dist-packages/ipykernel_launcher.py:26: SettingWithCopyWarning: \n",
            "A value is trying to be set on a copy of a slice from a DataFrame\n",
            "\n",
            "See the caveats in the documentation: https://pandas.pydata.org/pandas-docs/stable/user_guide/indexing.html#returning-a-view-versus-a-copy\n"
          ]
        }
      ]
    },
    {
      "cell_type": "markdown",
      "metadata": {
        "id": "BV7V5PUppFlE"
      },
      "source": [
        "Apresentando dados"
      ]
    },
    {
      "cell_type": "code",
      "metadata": {
        "id": "COiofXeWUYYB"
      },
      "source": [
        "pd.DataFrame(resultado,columns=['PNA','Núm_saídas_diferentes','Saídas_exclusivas','Núm_CktA','PNB','Núm_saídas_diferentesB','Saídas_exclusivasB','Núm_CktB'])"
      ],
      "execution_count": 175,
      "outputs": []
    }
  ]
}